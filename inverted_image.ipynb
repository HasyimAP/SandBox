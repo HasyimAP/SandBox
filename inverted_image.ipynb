{
  "nbformat": 4,
  "nbformat_minor": 0,
  "metadata": {
    "colab": {
      "name": "inverted_image.ipynb",
      "provenance": [],
      "collapsed_sections": [],
      "authorship_tag": "ABX9TyN6XjyRobosSRjhq3sOXc72",
      "include_colab_link": true
    },
    "kernelspec": {
      "name": "python3",
      "display_name": "Python 3"
    },
    "language_info": {
      "name": "python"
    }
  },
  "cells": [
    {
      "cell_type": "markdown",
      "metadata": {
        "id": "view-in-github",
        "colab_type": "text"
      },
      "source": [
        "<a href=\"https://colab.research.google.com/github/HasyimAP/SandBox/blob/main/inverted_image.ipynb\" target=\"_parent\"><img src=\"https://colab.research.google.com/assets/colab-badge.svg\" alt=\"Open In Colab\"/></a>"
      ]
    },
    {
      "cell_type": "code",
      "source": [
        "import cv2\n",
        "import numpy as np\n",
        "from google.colab import files\n",
        "from google.colab.patches import cv2_imshow"
      ],
      "metadata": {
        "id": "TsnE86YjBDyP"
      },
      "execution_count": null,
      "outputs": []
    },
    {
      "cell_type": "code",
      "execution_count": null,
      "metadata": {
        "id": "eGuoGkG7A_Jc"
      },
      "outputs": [],
      "source": [
        "def read_file(filename):\n",
        "  img = cv2.imread(filename)\n",
        "  cv2_imshow(img)\n",
        "  return img\n",
        "\n",
        "def adjust_gamma(image, gamma=1.0):\n",
        "\n",
        "   invGamma = 1.0 / gamma\n",
        "   table = np.array([((i / 255.0) ** invGamma) * 255\n",
        "      for i in np.arange(0, 256)]).astype(\"uint8\")\n",
        "\n",
        "   return cv2.LUT(image, table)"
      ]
    },
    {
      "cell_type": "code",
      "source": [
        "#upload image\n",
        "uploaded = files.upload()\n",
        "filename = next(iter(uploaded))\n",
        "img = read_file(filename)"
      ],
      "metadata": {
        "id": "S_k2lcFDBJGg"
      },
      "execution_count": null,
      "outputs": []
    },
    {
      "cell_type": "code",
      "source": [
        "adjusted = adjust_gamma(img, gamma=1.0)\n",
        "#invert image\n",
        "inverted_sketch = cv2.bitwise_not(adjusted)\n",
        "cv2_imshow(inverted_sketch)"
      ],
      "metadata": {
        "id": "_BZMAcyEBN59"
      },
      "execution_count": null,
      "outputs": []
    }
  ]
}