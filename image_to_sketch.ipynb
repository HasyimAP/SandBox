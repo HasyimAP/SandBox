{
  "cells": [
    {
      "cell_type": "markdown",
      "metadata": {
        "id": "view-in-github",
        "colab_type": "text"
      },
      "source": [
        "<a href=\"https://colab.research.google.com/github/HasyimAP/SandBox/blob/main/image_to_sketch.ipynb\" target=\"_parent\"><img src=\"https://colab.research.google.com/assets/colab-badge.svg\" alt=\"Open In Colab\"/></a>"
      ]
    },
    {
      "cell_type": "code",
      "execution_count": null,
      "metadata": {
        "id": "-yMx6qFsPabY"
      },
      "outputs": [],
      "source": [
        "import cv2\n",
        "from google.colab import files\n",
        "from google.colab.patches import cv2_imshow"
      ]
    },
    {
      "cell_type": "code",
      "execution_count": null,
      "metadata": {
        "id": "StV26HPA3o7u"
      },
      "outputs": [],
      "source": [
        "def read_file(filename):\n",
        "  img = cv2.imread(filename)\n",
        "  cv2_imshow(img)\n",
        "  return img"
      ]
    },
    {
      "cell_type": "code",
      "execution_count": null,
      "metadata": {
        "id": "_UF2Zk7hRQoS"
      },
      "outputs": [],
      "source": [
        "#upload image\n",
        "uploaded = files.upload()\n",
        "filename = next(iter(uploaded))\n",
        "img = read_file(filename)"
      ]
    },
    {
      "cell_type": "code",
      "execution_count": null,
      "metadata": {
        "id": "_V0rUOCiODxQ"
      },
      "outputs": [],
      "source": [
        "#convert to gray image\n",
        "gray_image = cv2.cvtColor(img, cv2.COLOR_BGR2GRAY)\n",
        "#invert image\n",
        "inverted = 255 - gray_image\n",
        "#blur\n",
        "blur = cv2.GaussianBlur(inverted, (55, 55), 0)\n",
        "#inverted + blur image\n",
        "invertedblur = 255 - blur\n",
        "#sketch image\n",
        "sketch = cv2.divide(gray_image, invertedblur, scale=256.0)\n",
        "#display sketch\n",
        "cv2_imshow(sketch)"
      ]
    },
    {
      "cell_type": "markdown",
      "source": [
        "<h2>Note</h2>\n",
        "\n",
        "You can try changing the 2nd parameter on cv2.GaussianBlur() function to make the result to your liking"
      ],
      "metadata": {
        "id": "Ej0Iy5gKb7Ww"
      }
    }
  ],
  "metadata": {
    "colab": {
      "name": "image to sketch.ipynb",
      "provenance": [],
      "collapsed_sections": [],
      "authorship_tag": "ABX9TyNeZexnxlvdyuviLPLeaP6k",
      "include_colab_link": true
    },
    "kernelspec": {
      "display_name": "Python 3",
      "name": "python3"
    },
    "language_info": {
      "name": "python"
    }
  },
  "nbformat": 4,
  "nbformat_minor": 0
}